{
 "cells": [
  {
   "cell_type": "code",
   "execution_count": 3,
   "metadata": {},
   "outputs": [
    {
     "name": "stdout",
     "output_type": "stream",
     "text": [
      "45\n"
     ]
    }
   ],
   "source": [
    "#1\n",
    "numbers=(34, 45, 42)\n",
    "\n",
    "maxnumber=max(numbers)\n",
    "print(maxnumber)"
   ]
  },
  {
   "cell_type": "code",
   "execution_count": 4,
   "metadata": {},
   "outputs": [
    {
     "name": "stdout",
     "output_type": "stream",
     "text": [
      "20\n"
     ]
    }
   ],
   "source": [
    "#2\n",
    "sumnumbers=(8, 2, 3, 0, 7)\n",
    "\n",
    "print(sum(sumnumbers))"
   ]
  },
  {
   "cell_type": "code",
   "execution_count": 10,
   "metadata": {},
   "outputs": [
    {
     "name": "stdout",
     "output_type": "stream",
     "text": [
      "-336\n"
     ]
    }
   ],
   "source": [
    "#3\n",
    "def multiply(numbers):\n",
    "\n",
    "    total=1\n",
    "    for x in numbers:\n",
    "        total *=x\n",
    "    return total\n",
    "    \n",
    "print(multiply((8, 2, 3, -1, 7)))\n"
   ]
  },
  {
   "cell_type": "code",
   "execution_count": 13,
   "metadata": {},
   "outputs": [
    {
     "name": "stdout",
     "output_type": "stream",
     "text": [
      "dcba4321\n"
     ]
    }
   ],
   "source": [
    "#4\n",
    "string=\"1234abcd\"\n",
    "\n",
    "reversedstring=string[::-1]\n",
    "\n",
    "print(reversedstring)\n",
    "\n"
   ]
  },
  {
   "cell_type": "code",
   "execution_count": 21,
   "metadata": {},
   "outputs": [
    {
     "name": "stdout",
     "output_type": "stream",
     "text": [
      "479001600\n"
     ]
    }
   ],
   "source": [
    "#5\n",
    "def factorial(numbers):\n",
    "\n",
    "    if numbers==0:\n",
    "        return 1\n",
    "    \n",
    "    else:\n",
    "        return numbers*factorial(numbers-1)\n",
    "    \n",
    "numbers=int(input('Enter a number:'))\n",
    "\n",
    "print(factorial(numbers))\n"
   ]
  },
  {
   "cell_type": "code",
   "execution_count": null,
   "metadata": {},
   "outputs": [
    {
     "ename": "TypeError",
     "evalue": "range() takes 1 positional argument but 2 were given",
     "output_type": "error",
     "traceback": [
      "\u001b[1;31m---------------------------------------------------------------------------\u001b[0m",
      "\u001b[1;31mTypeError\u001b[0m                                 Traceback (most recent call last)",
      "Cell \u001b[1;32mIn[11], line 9\u001b[0m\n\u001b[0;32m      5\u001b[0m     \u001b[38;5;28;01melse\u001b[39;00m:\n\u001b[0;32m      6\u001b[0m          \u001b[38;5;28mprint\u001b[39m(\u001b[38;5;124m'\u001b[39m\u001b[38;5;124mthe given number is out of range\u001b[39m\u001b[38;5;124m'\u001b[39m)\n\u001b[1;32m----> 9\u001b[0m \u001b[43mtestrange\u001b[49m\u001b[43m(\u001b[49m\u001b[38;5;241;43m7\u001b[39;49m\u001b[43m)\u001b[49m      \n",
      "Cell \u001b[1;32mIn[11], line 2\u001b[0m, in \u001b[0;36mtestrange\u001b[1;34m(n)\u001b[0m\n\u001b[0;32m      1\u001b[0m \u001b[38;5;28;01mdef\u001b[39;00m\u001b[38;5;250m \u001b[39m\u001b[38;5;21mtestrange\u001b[39m(n):\n\u001b[1;32m----> 2\u001b[0m     \u001b[38;5;28;01mif\u001b[39;00m n \u001b[38;5;129;01min\u001b[39;00m \u001b[38;5;28;43mrange\u001b[39;49m\u001b[43m(\u001b[49m\u001b[38;5;241;43m1\u001b[39;49m\u001b[43m,\u001b[49m\u001b[43m \u001b[49m\u001b[38;5;241;43m10\u001b[39;49m\u001b[43m)\u001b[49m:\n\u001b[0;32m      3\u001b[0m          \u001b[38;5;28mprint\u001b[39m(\u001b[38;5;124mf\u001b[39m\u001b[38;5;124m'\u001b[39m\u001b[38;5;124mn\u001b[39m\u001b[38;5;124m'\u001b[39m\u001b[38;5;124m'\u001b[39m\u001b[38;5;124m is in the range\u001b[39m\u001b[38;5;124m'\u001b[39m)\n\u001b[0;32m      5\u001b[0m     \u001b[38;5;28;01melse\u001b[39;00m:\n",
      "\u001b[1;31mTypeError\u001b[0m: range() takes 1 positional argument but 2 were given"
     ]
    }
   ],
   "source": [
    "#6\n",
    "def testrange(n):\n",
    "    if n in range(1, 10):\n",
    "         print(f'n'' is in the range')\n",
    "              \n",
    "    else:\n",
    "         print('the given number is out of range')\n",
    "\n",
    "\n",
    "testrange(7)      "
   ]
  },
  {
   "cell_type": "code",
   "execution_count": 22,
   "metadata": {},
   "outputs": [
    {
     "name": "stdout",
     "output_type": "stream",
     "text": [
      "Original case: The Box\n",
      "count of uppercase: 2\n",
      "count of lowercase: 4\n",
      "None\n"
     ]
    }
   ],
   "source": [
    "def string(s):\n",
    "    m={'uppercase':0, 'lowercase':0}\n",
    "\n",
    "    for c in s:\n",
    "        if c.isupper():\n",
    "            m['uppercase']+=1\n",
    "        elif   c.islower():\n",
    "            m['lowercase']+=1\n",
    "\n",
    "        else:\n",
    "            pass\n",
    "\n",
    "    print(\"Original case:\", s)\n",
    "    print('count of uppercase:', m['uppercase'])\n",
    "    print('count of lowercase:',  m['lowercase'])\n",
    "\n",
    "print(string('The Box'))\n"
   ]
  },
  {
   "cell_type": "code",
   "execution_count": 30,
   "metadata": {},
   "outputs": [
    {
     "name": "stdout",
     "output_type": "stream",
     "text": [
      "[1, 2, 3, 4, 5]\n"
     ]
    }
   ],
   "source": [
    "#8\n",
    "\n",
    "def list(n):\n",
    "    \n",
    "    x=[]\n",
    "\n",
    "    for a in n:\n",
    "        if a not in x:\n",
    "            x.append(a)\n",
    "\n",
    "    return x\n",
    "\n",
    "print(list([1,2,3,3,3,3,4,5]))        "
   ]
  },
  {
   "cell_type": "code",
   "execution_count": 7,
   "metadata": {},
   "outputs": [
    {
     "name": "stdout",
     "output_type": "stream",
     "text": [
      "False\n"
     ]
    }
   ],
   "source": [
    "#9\n",
    "def prime(n):\n",
    "    \n",
    "    if (n==1):\n",
    "        return False\n",
    "    \n",
    "    elif (n==2):\n",
    "        return True\n",
    "    \n",
    "    else:\n",
    "        for x in range(2, n):\n",
    "            if (n%x==0):\n",
    "                return False\n",
    "            \n",
    "        return False\n",
    "        \n",
    "print(prime(119))        \n"
   ]
  },
  {
   "cell_type": "code",
   "execution_count": 4,
   "metadata": {},
   "outputs": [
    {
     "name": "stdout",
     "output_type": "stream",
     "text": [
      "[2, 4, 6, 8]\n"
     ]
    }
   ],
   "source": [
    "#10\n",
    "def even_numbers(numbers):\n",
    "\n",
    "    enum=[]\n",
    "    for n in numbers:\n",
    "        if (n%2==0):\n",
    "            enum.append(n)\n",
    "\n",
    "    return enum    \n",
    "        \n",
    "        \n",
    "print(even_numbers([1, 2, 3, 4, 5, 6, 7, 8, 9]))        \n",
    "        \n",
    "\n",
    "        "
   ]
  },
  {
   "cell_type": "code",
   "execution_count": 11,
   "metadata": {},
   "outputs": [
    {
     "name": "stdout",
     "output_type": "stream",
     "text": [
      "False\n"
     ]
    }
   ],
   "source": [
    "#11\n",
    "def perfect_sum(n):\n",
    "    \n",
    "    sum=0\n",
    "    for x in range(1, n):\n",
    "        if n % x == 0:\n",
    "\n",
    "          sum += x\n",
    "\n",
    "    return sum == n    \n",
    "\n",
    "print(perfect_sum(8))"
   ]
  },
  {
   "cell_type": "code",
   "execution_count": 5,
   "metadata": {},
   "outputs": [
    {
     "name": "stdout",
     "output_type": "stream",
     "text": [
      "True\n"
     ]
    }
   ],
   "source": [
    "#12\n",
    "\n",
    "def palindrome(word):\n",
    "\n",
    "    leftread=0\n",
    "    rightread=len(word)-1\n",
    "\n",
    "    while rightread>=leftread:\n",
    "\n",
    "        if not word[rightread]==word[leftread]:\n",
    "\n",
    "            return False\n",
    "        \n",
    "        rightread-=1\n",
    "        leftread+=1\n",
    "\n",
    "    return True\n",
    "\n",
    "\n",
    "print(palindrome('nursesrun'))\n",
    "\n",
    "\n",
    "\n"
   ]
  },
  {
   "cell_type": "code",
   "execution_count": 10,
   "metadata": {},
   "outputs": [
    {
     "name": "stdout",
     "output_type": "stream",
     "text": [
      "[1]\n",
      "[1, 1]\n",
      "[1, 2, 1]\n",
      "[1, 3, 3, 1]\n",
      "[1, 4, 6, 4, 1]\n",
      "[1, 5, 10, 10, 5, 1]\n",
      "[1, 6, 15, 20, 15, 6, 1]\n",
      "[1, 7, 21, 35, 35, 21, 7, 1]\n",
      "[1, 8, 28, 56, 70, 56, 28, 8, 1]\n",
      "[1, 9, 36, 84, 126, 126, 84, 36, 9, 1]\n",
      "True\n"
     ]
    }
   ],
   "source": [
    "#13\n",
    "\n",
    "def pascal(n):\n",
    "\n",
    "    throw=[1]\n",
    "\n",
    "    a=[0]\n",
    "\n",
    "    for x in range(max(n, 0)):\n",
    "\n",
    "        print(throw)\n",
    "\n",
    "        throw=[l +r for l, r in zip(throw+a, a+throw)]\n",
    "\n",
    "    return n>=1\n",
    "\n",
    "print(pascal(10))    \n",
    "\n",
    "\n",
    "\n"
   ]
  },
  {
   "cell_type": "code",
   "execution_count": 14,
   "metadata": {},
   "outputs": [
    {
     "name": "stdout",
     "output_type": "stream",
     "text": [
      "True\n"
     ]
    }
   ],
   "source": [
    "#14\n",
    "\n",
    "import string\n",
    "\n",
    "import sys\n",
    "\n",
    "def pangram(str1, alph=string.ascii_lowercase):\n",
    "\n",
    "    alph=set(alph)\n",
    "\n",
    "    str_set=set(str1.lower())\n",
    "\n",
    "    return alph<=str_set\n",
    "\n",
    "\n",
    "print(pangram('The quick brown fox jumps over the lazy dog'))\n",
    "    "
   ]
  },
  {
   "cell_type": "code",
   "execution_count": 17,
   "metadata": {},
   "outputs": [
    {
     "name": "stdout",
     "output_type": "stream",
     "text": [
      "black-green-red-white-yellow\n"
     ]
    }
   ],
   "source": [
    "#15\n",
    "\n",
    "words=[n for n in input().split('-')]\n",
    "\n",
    "words.sort()\n",
    "\n",
    "print('-'.join(words))\n",
    "\n"
   ]
  },
  {
   "cell_type": "code",
   "execution_count": 34,
   "metadata": {},
   "outputs": [
    {
     "name": "stdout",
     "output_type": "stream",
     "text": [
      "[1, 4, 9, 16, 25, 36, 49, 64, 81, 100, 121, 144, 169, 196, 225, 256, 289, 324, 361, 400, 441, 484, 529, 576, 625, 676, 729, 784, 841]\n",
      "None\n"
     ]
    }
   ],
   "source": [
    "\n",
    "def printvalue():\n",
    "\n",
    "    n=list()\n",
    "\n",
    "    for i in range(1, 30):\n",
    "        n.append(i**2)\n",
    "\n",
    "    print(n)\n",
    "\n",
    "\n",
    "print(printvalue())        \n"
   ]
  },
  {
   "cell_type": "code",
   "execution_count": 35,
   "metadata": {},
   "outputs": [
    {
     "name": "stdout",
     "output_type": "stream",
     "text": [
      "()\n"
     ]
    }
   ],
   "source": [
    "#16\n",
    "\n",
    "def square(n):\n",
    "\n",
    "    m=()\n",
    "\n",
    "    if 1<=n<=30:\n",
    "\n",
    "        m=n**2\n",
    "\n",
    "    else:\n",
    "        pass\n",
    "\n",
    "    return  m\n",
    "    \n",
    "    \n",
    "print(square(31)) \n"
   ]
  }
 ],
 "metadata": {
  "kernelspec": {
   "display_name": "Python 3",
   "language": "python",
   "name": "python3"
  },
  "language_info": {
   "codemirror_mode": {
    "name": "ipython",
    "version": 3
   },
   "file_extension": ".py",
   "mimetype": "text/x-python",
   "name": "python",
   "nbconvert_exporter": "python",
   "pygments_lexer": "ipython3",
   "version": "3.13.1"
  }
 },
 "nbformat": 4,
 "nbformat_minor": 2
}
