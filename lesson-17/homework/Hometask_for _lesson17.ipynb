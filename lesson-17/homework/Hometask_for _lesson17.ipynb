{
 "cells": [
  {
   "cell_type": "code",
   "execution_count": 13,
   "metadata": {},
   "outputs": [],
   "source": [
    "import sqlite3\n",
    "\n",
    "connection=sqlite3.connect('Shool_N68.db')\n",
    "\n",
    "create_table='create table if not exists Class11(id int, LastName text,Name text, Grade int)'\n",
    "insert_values='''insert into Class11 values (1, 'Murzayev', 'Umidjon', 4), (2, 'Xayrullayev', 'Nematillo', 5), \n",
    "(3, 'Kushabayev', 'Elyor', 5), (4, 'Kamolov', 'Haydar', 4)\n",
    "'''\n",
    "cursor=connection.cursor()\n",
    "cursor.execute(create_table)\n",
    "cursor.execute(insert_values)\n",
    "connection.commit()\n",
    "connection.close()"
   ]
  },
  {
   "cell_type": "code",
   "execution_count": 14,
   "metadata": {},
   "outputs": [],
   "source": [
    "connection=sqlite3.connect('Shool_N68.db')\n",
    "cursor=connection.cursor()\n",
    "\n",
    "update1='''update class11 set grade=5 where id=1\n",
    "          \n",
    "'''\n",
    "update2='''update class11 set name=?, grade=? where id=3\n",
    "'''\n",
    "update3='update class11 set grade=grade+1'\n",
    "\n",
    "# drop='drop table class11'\n",
    "\n",
    "# cursor.execute(drop)\n",
    "cursor.execute(update3)\n",
    "cursor.execute(update2,('Sarvar', 4))\n",
    "cursor.execute(update1)\n",
    "connection.commit()\n",
    "connection.close()\n",
    "\n"
   ]
  }
 ],
 "metadata": {
  "kernelspec": {
   "display_name": "Python 3",
   "language": "python",
   "name": "python3"
  },
  "language_info": {
   "codemirror_mode": {
    "name": "ipython",
    "version": 3
   },
   "file_extension": ".py",
   "mimetype": "text/x-python",
   "name": "python",
   "nbconvert_exporter": "python",
   "pygments_lexer": "ipython3",
   "version": "3.12.8"
  }
 },
 "nbformat": 4,
 "nbformat_minor": 2
}
