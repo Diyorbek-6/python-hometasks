{
 "cells": [
  {
   "cell_type": "code",
   "execution_count": 13,
   "metadata": {},
   "outputs": [
    {
     "name": "stderr",
     "output_type": "stream",
     "text": [
      "<string>:16: SyntaxWarning: invalid escape sequence '\\{'\n",
      "<string>:17: SyntaxWarning: invalid escape sequence '\\{'\n",
      "<string>:18: SyntaxWarning: invalid escape sequence '\\{'\n",
      "<>:16: SyntaxWarning: invalid escape sequence '\\{'\n",
      "<>:17: SyntaxWarning: invalid escape sequence '\\{'\n",
      "<>:18: SyntaxWarning: invalid escape sequence '\\{'\n",
      "<string>:16: SyntaxWarning: invalid escape sequence '\\{'\n",
      "<string>:17: SyntaxWarning: invalid escape sequence '\\{'\n",
      "<string>:18: SyntaxWarning: invalid escape sequence '\\{'\n",
      "<>:16: SyntaxWarning: invalid escape sequence '\\{'\n",
      "<>:17: SyntaxWarning: invalid escape sequence '\\{'\n",
      "<>:18: SyntaxWarning: invalid escape sequence '\\{'\n",
      "C:\\Users\\User\\AppData\\Local\\Temp\\ipykernel_10360\\2492934586.py:16: SyntaxWarning: invalid escape sequence '\\{'\n",
      "  folder_path=f'New_Project\\{name}'\n",
      "C:\\Users\\User\\AppData\\Local\\Temp\\ipykernel_10360\\2492934586.py:17: SyntaxWarning: invalid escape sequence '\\{'\n",
      "  csv_file=f'{folder_path}\\{name}.csv'\n",
      "C:\\Users\\User\\AppData\\Local\\Temp\\ipykernel_10360\\2492934586.py:18: SyntaxWarning: invalid escape sequence '\\{'\n",
      "  jpeg_file=f'{folder_path}\\{name}.jpeg'\n"
     ]
    }
   ],
   "source": [
    "import json\n",
    "import requests\n",
    "import os\n",
    "\n",
    "column='id,name,birth_year,death_year,nationality\\n'\n",
    "\n",
    "with open('actors.json', 'r') as f:\n",
    "    data=json.load(f)\n",
    "    for i in data:\n",
    "        id=i['id']\n",
    "        name=i['name']\n",
    "        nationality=i['nationality']\n",
    "        birth_year=i['birth_year']\n",
    "        death_year=i.get('death_year', 'no info')\n",
    "        actor_image=i['image']\n",
    "        folder_path=f'New_Project\\{name}'\n",
    "        csv_file=f'{folder_path}\\{name}.csv'\n",
    "        jpeg_file=f'{folder_path}\\{name}.jpeg'\n",
    "         \n",
    "        os.makedirs(folder_path, exist_ok=True)\n",
    "\n",
    "        with open('csv_file', 'w') as f:\n",
    "            f.write(column)\n",
    "            values=(f'{id},{name},{birth_year},{death_year},{nationality}') \n",
    "            f.write(values)\n",
    "\n",
    "        with open('jpeg_file', 'wb') as f:\n",
    "            respond=requests.get(actor_image)\n",
    "            f.write(respond.content)\n"
   ]
  }
 ],
 "metadata": {
  "kernelspec": {
   "display_name": "Python 3",
   "language": "python",
   "name": "python3"
  },
  "language_info": {
   "codemirror_mode": {
    "name": "ipython",
    "version": 3
   },
   "file_extension": ".py",
   "mimetype": "text/x-python",
   "name": "python",
   "nbconvert_exporter": "python",
   "pygments_lexer": "ipython3",
   "version": "3.12.8"
  }
 },
 "nbformat": 4,
 "nbformat_minor": 2
}
