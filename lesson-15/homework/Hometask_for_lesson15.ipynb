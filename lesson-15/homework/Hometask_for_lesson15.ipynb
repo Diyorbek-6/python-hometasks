{
 "cells": [
  {
   "cell_type": "code",
   "execution_count": 1,
   "metadata": {},
   "outputs": [
    {
     "name": "stdout",
     "output_type": "stream",
     "text": [
      "Weather in Toshkent, Uzbekistan: Overcast\n",
      "Temperature: 10.2⁰C\n",
      "Weather in City of London, Greater London, United Kingdom: Sunny\n",
      "Temperature: 7.2⁰C\n",
      "Weather in Moscow City, Russia: Light snow\n",
      "Temperature: -5.8⁰C\n",
      "Local time in Toshkent: 2025-02-19 18:36:35\n",
      "Local time in City of London, Greater London: 2025-02-19 13:36:35\n",
      "Local time in Moscow City: 2025-02-19 16:36:35\n",
      "The user decided to stop\n"
     ]
    }
   ],
   "source": [
    "import requests\n",
    "from datetime import datetime\n",
    "import time\n",
    "from IPython.display import display, clear_output\n",
    "import pytz\n",
    "\n",
    "api_key = 'b1f4ec0a86974bafb71124001240312'\n",
    "cities = ['Tashkent', 'London', 'Moscow']\n",
    "\n",
    "def weather(city):\n",
    "    url = f'https://api.weatherapi.com/v1/current.json?key={api_key}&q={city}'\n",
    "\n",
    "    response = requests.get(url)\n",
    "    data = response.json()\n",
    "\n",
    "    location = data['location']['region']\n",
    "    country = data['location']['country']\n",
    "    temperature = data['current']['temp_c']\n",
    "    condition = data['current']['condition']['text']\n",
    "    timezone = data['location']['tz_id']\n",
    "\n",
    "    local_time_str = data['location']['localtime']\n",
    "    local_time = datetime.strptime(local_time_str, '%Y-%m-%d %H:%M')\n",
    "\n",
    "    return location, country, temperature, condition, timezone, local_time\n",
    "weather_data = {}\n",
    "for city in cities:\n",
    "    weather_data[city] = weather(city)\n",
    "    #print(weather_data)\n",
    "display_output = []\n",
    "for city, (location, country, temperature, condition,timezone, ltime) in weather_data.items():\n",
    "    text = f'Weather in {location}, {country}: {condition}\\nTemperature: {temperature}⁰C'\n",
    "    #print(text)\n",
    "    display_output.append(display(text))\n",
    "try:\n",
    "    while True:\n",
    "        updated_time_text = []\n",
    "        for city in cities:\n",
    "            location, country, temperature, condition,timezone, ltime = weather_data[city]\n",
    "            current_time = datetime.now(pytz.timezone(timezone)).strftime('%Y-%m-%d %H:%M:%S')\n",
    "            updated_text = f\"Local time in {location}: {current_time}\"\n",
    "            updated_time_text.append(updated_text)\n",
    "\n",
    "        clear_output(wait=True)\n",
    "\n",
    "        for city, (location, country, temperature, condition,timezone, ltime) in weather_data.items():\n",
    "            print(f'Weather in {location}, {country}: {condition}\\nTemperature: {temperature}⁰C')\n",
    "\n",
    "        for tm in updated_time_text:\n",
    "            print(tm)\n",
    "        time.sleep(1)\n",
    "except KeyboardInterrupt:\n",
    "    print('The user decided to stop')    \n",
    "    \n"
   ]
  }
 ],
 "metadata": {
  "kernelspec": {
   "display_name": "Python 3",
   "language": "python",
   "name": "python3"
  },
  "language_info": {
   "codemirror_mode": {
    "name": "ipython",
    "version": 3
   },
   "file_extension": ".py",
   "mimetype": "text/x-python",
   "name": "python",
   "nbconvert_exporter": "python",
   "pygments_lexer": "ipython3",
   "version": "3.12.8"
  }
 },
 "nbformat": 4,
 "nbformat_minor": 2
}
