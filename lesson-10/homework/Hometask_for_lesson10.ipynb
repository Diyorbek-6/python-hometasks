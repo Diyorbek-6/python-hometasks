{
 "cells": [
  {
   "cell_type": "code",
   "execution_count": 3,
   "metadata": {},
   "outputs": [
    {
     "name": "stdout",
     "output_type": "stream",
     "text": [
      "[8, 6, 8, 2, 4]\n"
     ]
    }
   ],
   "source": [
    "#1\n",
    "nums=[3, 5, 8, 1, 3, 6, 8, 3, 2, 4]\n",
    "\n",
    "even_nums=filter(lambda x: x%2==0, nums)\n",
    "print(list(even_nums))"
   ]
  },
  {
   "cell_type": "code",
   "execution_count": 5,
   "metadata": {},
   "outputs": [
    {
     "name": "stdout",
     "output_type": "stream",
     "text": [
      "['H', 'J', 'N', 'H', 'W', 'Y']\n"
     ]
    }
   ],
   "source": [
    "#2\n",
    "text=('Hello JoN. HoW are You!')\n",
    "\n",
    "uppercases=filter(lambda x: x.isupper(), text)\n",
    "\n",
    "print(list(uppercases))"
   ]
  },
  {
   "cell_type": "code",
   "execution_count": 9,
   "metadata": {},
   "outputs": [
    {
     "name": "stdout",
     "output_type": "stream",
     "text": [
      "[23, 23]\n"
     ]
    }
   ],
   "source": [
    "#3\n",
    "numbers=[11, 5, 23, 17, 23, 12, 19]\n",
    "\n",
    "treshold=15\n",
    "\n",
    "filterednums=list(filter(lambda x: x>=treshold, numbers))\n",
    "\n",
    "print(filterednums)\n"
   ]
  },
  {
   "cell_type": "code",
   "execution_count": 12,
   "metadata": {},
   "outputs": [
    {
     "name": "stdout",
     "output_type": "stream",
     "text": [
      "['Elyor', 'Asat']\n"
     ]
    }
   ],
   "source": [
    "#4\n",
    "names_list=['Manzura', 'Diyorbek', 'Shaxlo', 'Nemat', 'Elyor', 'Asat']\n",
    "vowels='AEIOU'\n",
    "\n",
    "vowelnames=list(filter(lambda n: n[0].upper() in vowels, names_list))\n",
    "print(vowelnames)"
   ]
  },
  {
   "cell_type": "code",
   "execution_count": 14,
   "metadata": {},
   "outputs": [
    {
     "name": "stdout",
     "output_type": "stream",
     "text": [
      "['Hello', 'Name', 'Bob']\n"
     ]
    }
   ],
   "source": [
    "#5\n",
    "text=['', 'Hello', 'Name', '', 'Bob']\n",
    "\n",
    "filtered_text=list(filter(lambda x: x!='', text))\n",
    "\n",
    "print(filtered_text)"
   ]
  },
  {
   "cell_type": "code",
   "execution_count": 17,
   "metadata": {},
   "outputs": [
    {
     "name": "stdout",
     "output_type": "stream",
     "text": [
      "[{'name': 'Denis Helio', 'age': 17, 'grade': 97}, {'name': 'Delores Aeneas', 'age': 17, 'grade': 100}]\n"
     ]
    }
   ],
   "source": [
    "#6\n",
    "students = [\n",
    "    {\"name\": \"Denis Helio\", \"age\": 17, \"grade\": 97},\n",
    "    {\"name\": \"Hania Mehtap\", \"age\": 16, \"grade\": 92},\n",
    "    {\"name\": \"Kelan Stasys\", \"age\": 17, \"grade\": 90},\n",
    "    {\"name\": \"Velvet Mirko\", \"age\": 16, \"grade\": 94},\n",
    "    {\"name\": \"Delores Aeneas\", \"age\": 17, \"grade\": 100},\n",
    "]\n",
    "highscore=95\n",
    "\n",
    "filtered_students=list(filter(lambda s:s['grade']>=highscore, students))\n",
    "print(filtered_students)\n"
   ]
  },
  {
   "cell_type": "code",
   "execution_count": 23,
   "metadata": {},
   "outputs": [
    {
     "name": "stdout",
     "output_type": "stream",
     "text": [
      "False\n"
     ]
    }
   ],
   "source": [
    "#7\n",
    "def prime_number(n):\n",
    "     if n<1:\n",
    "        return False\n",
    "     for x in range(2, int(n**0.5)+1):\n",
    "         if n%x==0:\n",
    "             return False\n",
    "     else: \n",
    "         return True  \n",
    "     \n",
    "print(prime_number(15))     \n"
   ]
  },
  {
   "cell_type": "code",
   "execution_count": 25,
   "metadata": {},
   "outputs": [
    {
     "name": "stdout",
     "output_type": "stream",
     "text": [
      "List of words:\n",
      "['Green', 'Orange', 'White', 'Black', 'Yellow']\n"
     ]
    }
   ],
   "source": [
    "#8\n",
    "words = [\"Red\", \"Green\", \"Orange\", \"White\", \"Black\", \"Pink\", \"Yellow\"]\n",
    "print(\"List of words:\")\n",
    "\n",
    "def leangth(word):\n",
    "    return list(filter(lambda x: len(x)>=5, word))\n",
    "print(leangth(words))\n",
    "\n",
    "\n"
   ]
  },
  {
   "cell_type": "code",
   "execution_count": 32,
   "metadata": {},
   "outputs": [
    {
     "name": "stdout",
     "output_type": "stream",
     "text": [
      "List of words:\n",
      "['Green', 'Orange', 'Pink']\n"
     ]
    }
   ],
   "source": [
    "#9\n",
    "words = [\"Red\", \"Green\", \"Orange\", \"White\", \"Black\", \"Pink\", \"Yellow\"]\n",
    "print(\"List of words:\")\n",
    "\n",
    "specific_string='n'\n",
    "\n",
    "filtered_list=list(filter(lambda word: specific_string in word.lower(), words))\n",
    "print(filtered_list)\n"
   ]
  },
  {
   "cell_type": "code",
   "execution_count": 39,
   "metadata": {},
   "outputs": [
    {
     "name": "stdout",
     "output_type": "stream",
     "text": [
      "['2025-12-31']\n"
     ]
    }
   ],
   "source": [
    "#10\n",
    "from datetime import datetime\n",
    "date_strings = [\"2023-07-11\", \"2022-02-22\", \"2024-05-11\", \"2025-12-31\", \"2021-01-01\"]\n",
    "\n",
    "dateformat=[datetime.strptime(date, '%Y-%m-%d') for date in date_strings]\n",
    "\n",
    "curren_time=datetime.now()\n",
    "\n",
    "future_dates=filter(lambda date: date>curren_time, dateformat)\n",
    "future_dates_str=[date.strftime('%Y-%m-%d') for date in future_dates]\n",
    "\n",
    "print(list(future_dates_str))\n",
    "\n"
   ]
  },
  {
   "cell_type": "code",
   "execution_count": 41,
   "metadata": {},
   "outputs": [
    {
     "name": "stdout",
     "output_type": "stream",
     "text": [
      "[('New York', 8500000), ('Los Angeles', 4000000), ('Chicago', 2700000), ('Houston', 2300000)]\n",
      "[('New York', 8500000), ('Los Angeles', 4000000), ('Chicago', 2700000), ('Houston', 2300000)]\n"
     ]
    }
   ],
   "source": [
    "#11\n",
    "cities = [\n",
    "    (\"New York\", 8500000),\n",
    "    (\"Los Angeles\", 4000000),\n",
    "    (\"Chicago\", 2700000),\n",
    "    (\"Houston\", 2300000),\n",
    "    (\"Phoenix\", 1600000),\n",
    "    (\"Philadelphia\", 1500000),\n",
    "    (\"San Antonio\", 1500000),\n",
    "]\n",
    "result=list(filter(lambda x: x[1]>2000000, cities))\n",
    "\n",
    "print(result)\n",
    "\n",
    "def population(count):\n",
    "    return count[1]>2000000\n",
    "filtered_pop=list(filter(population, cities))\n",
    "\n",
    "print(filtered_pop)"
   ]
  }
 ],
 "metadata": {
  "kernelspec": {
   "display_name": "Python 3",
   "language": "python",
   "name": "python3"
  },
  "language_info": {
   "codemirror_mode": {
    "name": "ipython",
    "version": 3
   },
   "file_extension": ".py",
   "mimetype": "text/x-python",
   "name": "python",
   "nbconvert_exporter": "python",
   "pygments_lexer": "ipython3",
   "version": "3.13.1"
  }
 },
 "nbformat": 4,
 "nbformat_minor": 2
}
