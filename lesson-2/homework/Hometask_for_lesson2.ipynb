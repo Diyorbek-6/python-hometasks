{
 "cells": [
  {
   "cell_type": "code",
   "execution_count": 2,
   "metadata": {},
   "outputs": [
    {
     "name": "stdout",
     "output_type": "stream",
     "text": [
      "Your name in reverse order is: kebroyiD votarumahS\n"
     ]
    }
   ],
   "source": [
    "\n",
    "def reverse_fullname():\n",
    "    fullname = input(\"Enter your full name: \")\n",
    "    reversed_name = fullname[::-1]\n",
    "    print(f\"Your name in reverse order is: {reversed_name}\")\n"
   ]
  },
  {
   "cell_type": "code",
   "execution_count": 4,
   "metadata": {},
   "outputs": [
    {
     "name": "stdout",
     "output_type": "stream",
     "text": [
      "Your name in reverse order is kebroyiD votarumahS\n"
     ]
    }
   ],
   "source": [
    "fullname2=input('Enter your full name:')\n",
    "revname=fullname2[::-1]\n",
    "\n",
    "print('Your name in reverse order is',revname)"
   ]
  }
 ],
 "metadata": {
  "kernelspec": {
   "display_name": "Python 3",
   "language": "python",
   "name": "python3"
  },
  "language_info": {
   "codemirror_mode": {
    "name": "ipython",
    "version": 3
   },
   "file_extension": ".py",
   "mimetype": "text/x-python",
   "name": "python",
   "nbconvert_exporter": "python",
   "pygments_lexer": "ipython3",
   "version": "3.13.1"
  }
 },
 "nbformat": 4,
 "nbformat_minor": 2
}
