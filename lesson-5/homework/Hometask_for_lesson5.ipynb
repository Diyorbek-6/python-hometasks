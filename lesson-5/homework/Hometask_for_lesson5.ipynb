{
 "cells": [
  {
   "cell_type": "code",
   "execution_count": 44,
   "metadata": {},
   "outputs": [
    {
     "name": "stdout",
     "output_type": "stream",
     "text": [
      "['Tom', 'Jeny']\n"
     ]
    }
   ],
   "source": [
    "#1\n",
    "Student=[('Jek', 78), ('Tom', 84), ('Jeny', 88)]\n",
    "\n",
    "highscores=[name for name, score in Student if score>80]\n",
    "\n",
    "print(highscores)"
   ]
  },
  {
   "cell_type": "code",
   "execution_count": 43,
   "metadata": {},
   "outputs": [
    {
     "ename": "TypeError",
     "evalue": "max() got an unexpected keyword argument 'key'",
     "output_type": "error",
     "traceback": [
      "\u001b[1;31m---------------------------------------------------------------------------\u001b[0m",
      "\u001b[1;31mTypeError\u001b[0m                                 Traceback (most recent call last)",
      "Cell \u001b[1;32mIn[43], line 7\u001b[0m\n\u001b[0;32m      4\u001b[0m \u001b[38;5;28;01mdef\u001b[39;00m\u001b[38;5;250m \u001b[39m\u001b[38;5;21mnumbers_max\u001b[39m(numbers, key\u001b[38;5;241m=\u001b[39m\u001b[38;5;28msum\u001b[39m):\n\u001b[0;32m      5\u001b[0m     \u001b[38;5;28;01mreturn\u001b[39;00m \u001b[38;5;28mmax\u001b[39m(numbers)\n\u001b[1;32m----> 7\u001b[0m max_numbers\u001b[38;5;241m=\u001b[39m\u001b[43mnumbers_max\u001b[49m\u001b[43m(\u001b[49m\u001b[43mNumbers\u001b[49m\u001b[43m)\u001b[49m\n\u001b[0;32m      9\u001b[0m \u001b[38;5;28mprint\u001b[39m(max_numbers)\n",
      "Cell \u001b[1;32mIn[43], line 5\u001b[0m, in \u001b[0;36mnumbers_max\u001b[1;34m(numbers, key)\u001b[0m\n\u001b[0;32m      4\u001b[0m \u001b[38;5;28;01mdef\u001b[39;00m\u001b[38;5;250m \u001b[39m\u001b[38;5;21mnumbers_max\u001b[39m(numbers, key\u001b[38;5;241m=\u001b[39m\u001b[38;5;28msum\u001b[39m):\n\u001b[1;32m----> 5\u001b[0m     \u001b[38;5;28;01mreturn\u001b[39;00m \u001b[38;5;28;43mmax\u001b[39;49m\u001b[43m(\u001b[49m\u001b[43mnumbers\u001b[49m\u001b[43m)\u001b[49m\n",
      "Cell \u001b[1;32mIn[9], line 5\u001b[0m, in \u001b[0;36mmax\u001b[1;34m(number_fruits)\u001b[0m\n\u001b[0;32m      4\u001b[0m \u001b[38;5;28;01mdef\u001b[39;00m\u001b[38;5;250m \u001b[39m\u001b[38;5;21mmax\u001b[39m(number_fruits):\n\u001b[1;32m----> 5\u001b[0m     \u001b[38;5;28;01mreturn\u001b[39;00m \u001b[38;5;28;43mmax\u001b[39;49m\u001b[43m(\u001b[49m\u001b[43mnumber_fruits\u001b[49m\u001b[43m,\u001b[49m\u001b[43m \u001b[49m\u001b[43mkey\u001b[49m\u001b[38;5;241;43m=\u001b[39;49m\u001b[38;5;28;43;01mlambda\u001b[39;49;00m\u001b[43m \u001b[49m\u001b[43mx\u001b[49m\u001b[43m:\u001b[49m\u001b[43m \u001b[49m\u001b[43m(\u001b[49m\u001b[38;5;28;43mlen\u001b[39;49m\u001b[43m(\u001b[49m\u001b[43mx\u001b[49m\u001b[43m[\u001b[49m\u001b[38;5;241;43m0\u001b[39;49m\u001b[43m]\u001b[49m\u001b[43m)\u001b[49m\u001b[43m,\u001b[49m\u001b[43m \u001b[49m\u001b[43mx\u001b[49m\u001b[43m[\u001b[49m\u001b[38;5;241;43m1\u001b[39;49m\u001b[43m]\u001b[49m\u001b[43m)\u001b[49m\u001b[43m)\u001b[49m\n",
      "\u001b[1;31mTypeError\u001b[0m: max() got an unexpected keyword argument 'key'"
     ]
    }
   ],
   "source": [
    "#2\n",
    "Numbers=([1, 2], [3, 4], [5, 6, 7])\n",
    "\n",
    "def numbers_max(numbers, key=sum):\n",
    "    return max(numbers)\n",
    "\n",
    "max_numbers=numbers_max(Numbers)\n",
    "\n",
    "print(max_numbers)"
   ]
  },
  {
   "cell_type": "code",
   "execution_count": 24,
   "metadata": {},
   "outputs": [
    {
     "name": "stdout",
     "output_type": "stream",
     "text": [
      "['Joe', 'Beck']\n"
     ]
    }
   ],
   "source": [
    "#3\n",
    "Name_with_ages=[('Mike', 25), ('Joe', 31), ('Beck', 40)]\n",
    "\n",
    "highages=[name for name, age in Name_with_ages if age>30 and age<50]\n",
    "\n",
    "print(highages)"
   ]
  },
  {
   "cell_type": "code",
   "execution_count": 46,
   "metadata": {},
   "outputs": [
    {
     "name": "stdout",
     "output_type": "stream",
     "text": [
      "[(1, 'odd'), (2, 'even'), (3, 'odd'), (4, 'even')]\n"
     ]
    }
   ],
   "source": [
    "#4\n",
    "numbers1=[1, 2, 3, 4]\n",
    "\n",
    "def numbers0(numbers):\n",
    "    return [(num, 'even' if num % 2==0 else 'odd') for num in numbers]\n",
    "\n",
    "numlist=numbers0(numbers1)\n",
    "\n",
    "print(numlist)"
   ]
  },
  {
   "cell_type": "code",
   "execution_count": 14,
   "metadata": {},
   "outputs": [
    {
     "ename": "TypeError",
     "evalue": "max() got an unexpected keyword argument 'key'",
     "output_type": "error",
     "traceback": [
      "\u001b[1;31m---------------------------------------------------------------------------\u001b[0m",
      "\u001b[1;31mTypeError\u001b[0m                                 Traceback (most recent call last)",
      "Cell \u001b[1;32mIn[14], line 7\u001b[0m\n\u001b[0;32m      4\u001b[0m \u001b[38;5;28;01mdef\u001b[39;00m\u001b[38;5;250m \u001b[39m\u001b[38;5;21mmaxnum\u001b[39m(number_fruits):\n\u001b[0;32m      5\u001b[0m     \u001b[38;5;28;01mreturn\u001b[39;00m \u001b[38;5;28mmax\u001b[39m(number_fruits, key\u001b[38;5;241m=\u001b[39m\u001b[38;5;28;01mlambda\u001b[39;00m x: (\u001b[38;5;28mlen\u001b[39m(x[\u001b[38;5;241m0\u001b[39m]), x[\u001b[38;5;241m1\u001b[39m]))\n\u001b[1;32m----> 7\u001b[0m frtnum\u001b[38;5;241m=\u001b[39m\u001b[43mmaxnum\u001b[49m\u001b[43m(\u001b[49m\u001b[43mnumber_fruits\u001b[49m\u001b[43m)\u001b[49m\n\u001b[0;32m      9\u001b[0m \u001b[38;5;28mprint\u001b[39m(frtnum)\n",
      "Cell \u001b[1;32mIn[14], line 5\u001b[0m, in \u001b[0;36mmaxnum\u001b[1;34m(number_fruits)\u001b[0m\n\u001b[0;32m      4\u001b[0m \u001b[38;5;28;01mdef\u001b[39;00m\u001b[38;5;250m \u001b[39m\u001b[38;5;21mmaxnum\u001b[39m(number_fruits):\n\u001b[1;32m----> 5\u001b[0m     \u001b[38;5;28;01mreturn\u001b[39;00m \u001b[38;5;28;43mmax\u001b[39;49m\u001b[43m(\u001b[49m\u001b[43mnumber_fruits\u001b[49m\u001b[43m,\u001b[49m\u001b[43m \u001b[49m\u001b[43mkey\u001b[49m\u001b[38;5;241;43m=\u001b[39;49m\u001b[38;5;28;43;01mlambda\u001b[39;49;00m\u001b[43m \u001b[49m\u001b[43mx\u001b[49m\u001b[43m:\u001b[49m\u001b[43m \u001b[49m\u001b[43m(\u001b[49m\u001b[38;5;28;43mlen\u001b[39;49m\u001b[43m(\u001b[49m\u001b[43mx\u001b[49m\u001b[43m[\u001b[49m\u001b[38;5;241;43m0\u001b[39;49m\u001b[43m]\u001b[49m\u001b[43m)\u001b[49m\u001b[43m,\u001b[49m\u001b[43m \u001b[49m\u001b[43mx\u001b[49m\u001b[43m[\u001b[49m\u001b[38;5;241;43m1\u001b[39;49m\u001b[43m]\u001b[49m\u001b[43m)\u001b[49m\u001b[43m)\u001b[49m\n",
      "\u001b[1;31mTypeError\u001b[0m: max() got an unexpected keyword argument 'key'"
     ]
    }
   ],
   "source": [
    "#5\n",
    "number_fruits=[('apple', 5), ('banana', 4), ('cherry', 6)]\n",
    "\n",
    "def maxnum(number_fruits):\n",
    "    return max(number_fruits, key=lambda x: (len(x[0]), x[1]))\n",
    "\n",
    "frtnum=maxnum(number_fruits)\n",
    "\n",
    "print(frtnum)"
   ]
  },
  {
   "cell_type": "code",
   "execution_count": 47,
   "metadata": {},
   "outputs": [
    {
     "name": "stdout",
     "output_type": "stream",
     "text": [
      "[('2025-01-01', 'Event B'), ('2024-12-01', 'Event A')]\n"
     ]
    }
   ],
   "source": [
    "#6\n",
    "dates=[('2024-12-01', 'Event A'), ('2025-01-01', 'Event B')]\n",
    "\n",
    "def sortevents(dates):\n",
    "\n",
    "    return sorted(dates, key=lambda x:x[0], reverse=True)\n",
    "\n",
    "sorted_events=sortevents(dates)\n",
    "\n",
    "print(sorted_events)\n",
    "\n"
   ]
  },
  {
   "cell_type": "code",
   "execution_count": 18,
   "metadata": {},
   "outputs": [
    {
     "ename": "TypeError",
     "evalue": "max() got an unexpected keyword argument 'key'",
     "output_type": "error",
     "traceback": [
      "\u001b[1;31m---------------------------------------------------------------------------\u001b[0m",
      "\u001b[1;31mTypeError\u001b[0m                                 Traceback (most recent call last)",
      "Cell \u001b[1;32mIn[18], line 7\u001b[0m\n\u001b[0;32m      4\u001b[0m \u001b[38;5;28;01mdef\u001b[39;00m\u001b[38;5;250m \u001b[39m\u001b[38;5;21mhighestscore\u001b[39m(score):\n\u001b[0;32m      5\u001b[0m     \u001b[38;5;28;01mreturn\u001b[39;00m \u001b[38;5;28mmax\u001b[39m(score, key\u001b[38;5;241m=\u001b[39m\u001b[38;5;28;01mlambda\u001b[39;00m x:x [\u001b[38;5;241m1\u001b[39m])\n\u001b[1;32m----> 7\u001b[0m highscore\u001b[38;5;241m=\u001b[39m\u001b[43mhighestscore\u001b[49m\u001b[43m(\u001b[49m\u001b[43mscore\u001b[49m\u001b[43m)\u001b[49m\n\u001b[0;32m      9\u001b[0m \u001b[38;5;28mprint\u001b[39m(highscore)\n",
      "Cell \u001b[1;32mIn[18], line 5\u001b[0m, in \u001b[0;36mhighestscore\u001b[1;34m(score)\u001b[0m\n\u001b[0;32m      4\u001b[0m \u001b[38;5;28;01mdef\u001b[39;00m\u001b[38;5;250m \u001b[39m\u001b[38;5;21mhighestscore\u001b[39m(score):\n\u001b[1;32m----> 5\u001b[0m     \u001b[38;5;28;01mreturn\u001b[39;00m \u001b[38;5;28;43mmax\u001b[39;49m\u001b[43m(\u001b[49m\u001b[43mscore\u001b[49m\u001b[43m,\u001b[49m\u001b[43m \u001b[49m\u001b[43mkey\u001b[49m\u001b[38;5;241;43m=\u001b[39;49m\u001b[38;5;28;43;01mlambda\u001b[39;49;00m\u001b[43m \u001b[49m\u001b[43mx\u001b[49m\u001b[43m:\u001b[49m\u001b[43mx\u001b[49m\u001b[43m \u001b[49m\u001b[43m[\u001b[49m\u001b[38;5;241;43m1\u001b[39;49m\u001b[43m]\u001b[49m\u001b[43m)\u001b[49m\n",
      "\u001b[1;31mTypeError\u001b[0m: max() got an unexpected keyword argument 'key'"
     ]
    }
   ],
   "source": [
    "#7\n",
    "score= [('Mike', 75), ('Joe', 90), ('Beck', 85)]\n",
    "\n",
    "def highestscore(score):\n",
    "    return max(score, key=lambda x:x [1])\n",
    "\n",
    "highscore=highestscore(score)\n",
    "\n",
    "print(highscore)"
   ]
  },
  {
   "cell_type": "code",
   "execution_count": 14,
   "metadata": {},
   "outputs": [
    {
     "name": "stdout",
     "output_type": "stream",
     "text": [
      "['product2']\n",
      "[('product2', 60)]\n"
     ]
    }
   ],
   "source": [
    "#8\n",
    "products= [('product1', 45), ('product2', 60), ('product3', 120)]\n",
    "\n",
    "sort_product=[name for name, price in products if price>50 and price<100]\n",
    "\n",
    "print(sort_product)\n",
    "\n",
    "def sortproduct(products):\n",
    "    return [products for products in products if 50<=products[1]<=100]\n",
    "\n",
    "sortedproducts=sortproduct(products)\n",
    "\n",
    "print(sortedproducts)"
   ]
  },
  {
   "cell_type": "code",
   "execution_count": 40,
   "metadata": {},
   "outputs": [
    {
     "ename": "TypeError",
     "evalue": "print() got an unexpected keyword argument 'key'",
     "output_type": "error",
     "traceback": [
      "\u001b[1;31m---------------------------------------------------------------------------\u001b[0m",
      "\u001b[1;31mTypeError\u001b[0m                                 Traceback (most recent call last)",
      "Cell \u001b[1;32mIn[40], line 4\u001b[0m\n\u001b[0;32m      1\u001b[0m \u001b[38;5;66;03m#9\u001b[39;00m\n\u001b[0;32m      2\u001b[0m names_ages\u001b[38;5;241m=\u001b[39m[(\u001b[38;5;124m'\u001b[39m\u001b[38;5;124mMike\u001b[39m\u001b[38;5;124m'\u001b[39m, \u001b[38;5;241m25\u001b[39m), (\u001b[38;5;124m'\u001b[39m\u001b[38;5;124mJoe\u001b[39m\u001b[38;5;124m'\u001b[39m, \u001b[38;5;241m31\u001b[39m), (\u001b[38;5;124m'\u001b[39m\u001b[38;5;124mBeck\u001b[39m\u001b[38;5;124m'\u001b[39m, \u001b[38;5;241m40\u001b[39m)]\n\u001b[1;32m----> 4\u001b[0m \u001b[38;5;28;43mprint\u001b[39;49m\u001b[43m(\u001b[49m\u001b[43mnames_ages\u001b[49m\u001b[43m,\u001b[49m\u001b[43m \u001b[49m\u001b[43mkey\u001b[49m\u001b[38;5;241;43m=\u001b[39;49m\u001b[38;5;28;43;01mlambda\u001b[39;49;00m\u001b[43m \u001b[49m\u001b[43mx\u001b[49m\u001b[43m:\u001b[49m\u001b[43mx\u001b[49m\u001b[43m \u001b[49m\u001b[43m[\u001b[49m\u001b[38;5;241;43m1\u001b[39;49m\u001b[43m]\u001b[49m\u001b[43m)\u001b[49m\n",
      "\u001b[1;31mTypeError\u001b[0m: print() got an unexpected keyword argument 'key'"
     ]
    }
   ],
   "source": [
    "#9\n",
    "names_ages=[('Mike', 25), ('Joe', 31), ('Beck', 40)]\n",
    "\n",
    "print(names_ages, key=lambda x:x [1])\n",
    "\n",
    "\n"
   ]
  },
  {
   "cell_type": "code",
   "execution_count": 50,
   "metadata": {},
   "outputs": [
    {
     "name": "stdout",
     "output_type": "stream",
     "text": [
      "<generator object students.<locals>.<genexpr> at 0x000001F886C01220>\n"
     ]
    }
   ],
   "source": [
    "#10\n",
    "studenscores=[('Mike', [85, 75, 90]), ('Joe', [70, 80, 60])]\n",
    "\n",
    "def students(studentscores, key=sum):\n",
    "    \n",
    "    return ( name for name, score in studenscores if score>80)\n",
    "\n",
    "avgscore=students(studenscores)\n",
    "\n",
    "print(avgscore)\n",
    "\n"
   ]
  }
 ],
 "metadata": {
  "kernelspec": {
   "display_name": "Python 3",
   "language": "python",
   "name": "python3"
  },
  "language_info": {
   "codemirror_mode": {
    "name": "ipython",
    "version": 3
   },
   "file_extension": ".py",
   "mimetype": "text/x-python",
   "name": "python",
   "nbconvert_exporter": "python",
   "pygments_lexer": "ipython3",
   "version": "3.13.1"
  }
 },
 "nbformat": 4,
 "nbformat_minor": 2
}
