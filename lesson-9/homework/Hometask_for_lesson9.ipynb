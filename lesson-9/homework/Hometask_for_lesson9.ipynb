{
 "cells": [
  {
   "cell_type": "code",
   "execution_count": 5,
   "metadata": {},
   "outputs": [
    {
     "name": "stdout",
     "output_type": "stream",
     "text": [
      "[3, 6, 9, 12, 15, 18, 21]\n"
     ]
    }
   ],
   "source": [
    "#1\n",
    "numbers=[1, 2, 3, 4, 5, 6, 7]\n",
    "\n",
    "triple=list(map(lambda x: x+x+x, numbers))\n",
    "\n",
    "print(triple)\n"
   ]
  },
  {
   "cell_type": "code",
   "execution_count": 8,
   "metadata": {},
   "outputs": [
    {
     "name": "stdout",
     "output_type": "stream",
     "text": [
      "[3, 6, 3]\n",
      "[1, 9, 5]\n",
      "[2, 4, 8]\n",
      "[6, 19, 16]\n"
     ]
    }
   ],
   "source": [
    "#2\n",
    "list1=[3, 6, 3]\n",
    "list2=[1, 9, 5]\n",
    "list3=[2, 4, 8]\n",
    "\n",
    "print(list1)\n",
    "print(list2)\n",
    "print(list3)\n",
    "\n",
    "result=map(lambda x, y, z: x+y+z, list1, list2, list3)\n",
    "\n",
    "print(list(result))"
   ]
  },
  {
   "cell_type": "code",
   "execution_count": 16,
   "metadata": {},
   "outputs": [
    {
     "name": "stdout",
     "output_type": "stream",
     "text": [
      "['Red', 'Blue', 'Black', 'White', 'Pink']\n",
      "[['R', 'e', 'd'], ['B', 'l', 'u', 'e'], ['B', 'l', 'a', 'c', 'k'], ['W', 'h', 'i', 't', 'e'], ['P', 'i', 'n', 'k']]\n"
     ]
    }
   ],
   "source": [
    "#3\n",
    "\n",
    "color = ['Red', 'Blue', 'Black', 'White', 'Pink']\n",
    "\n",
    "print(color)\n",
    "\n",
    "result=list(map(list, color))\n",
    "\n",
    "print(result)\n"
   ]
  },
  {
   "cell_type": "code",
   "execution_count": 17,
   "metadata": {},
   "outputs": [
    {
     "name": "stdout",
     "output_type": "stream",
     "text": [
      "[10, 20, 30, 40, 50, 60, 70, 80, 90, 100] [1, 2, 3, 4, 5, 6, 7, 8, 9, 10]\n",
      "[10, 400, 27000, 2560000, 312500000, 46656000000, 8235430000000, 1677721600000000, 387420489000000000, 100000000000000000000]\n"
     ]
    }
   ],
   "source": [
    "#4\n",
    "bases_num = [10, 20, 30, 40, 50, 60, 70, 80, 90, 100]\n",
    "index = [1, 2, 3, 4, 5, 6, 7, 8, 9, 10]\n",
    "\n",
    "print(bases_num, index)\n",
    "\n",
    "result=list(map(pow, bases_num, index))\n",
    "print(result)"
   ]
  },
  {
   "cell_type": "code",
   "execution_count": 11,
   "metadata": {},
   "outputs": [
    {
     "name": "stdout",
     "output_type": "stream",
     "text": [
      "[1, 2, 3, 4, 5, 6, 7, 8, 9, 10, 11, 12, 13, 14, 15]\n",
      "[1, 4, 9, 16, 25, 36, 49, 64, 81, 100, 121, 144, 169, 196, 225]\n"
     ]
    }
   ],
   "source": [
    "#5\n",
    "def square(n):\n",
    "    return n*n\n",
    "numbers=[1, 2, 3, 4, 5, 6, 7, 8, 9, 10, 11, 12, 13, 14, 15]\n",
    "print(numbers)\n",
    "\n",
    "result=map(square, numbers)\n",
    "print(list(result))"
   ]
  },
  {
   "cell_type": "code",
   "execution_count": 15,
   "metadata": {},
   "outputs": [
    {
     "name": "stdout",
     "output_type": "stream",
     "text": [
      "{('F', 'f'), ('M', 'm'), ('D', 'd'), ('W', 'w')}\n"
     ]
    }
   ],
   "source": [
    "#6\n",
    "def checking(w):\n",
    "    return str(w).upper(), str(w).lower()\n",
    "\n",
    "list={'d', 'W', 'M', 'f', 'm', 'D'}\n",
    "\n",
    "result=map(checking, list)\n",
    "\n",
    "print(set(result))"
   ]
  },
  {
   "cell_type": "code",
   "execution_count": 23,
   "metadata": {},
   "outputs": [
    {
     "ename": "TypeError",
     "evalue": "'set' object is not callable",
     "output_type": "error",
     "traceback": [
      "\u001b[1;31m---------------------------------------------------------------------------\u001b[0m",
      "\u001b[1;31mTypeError\u001b[0m                                 Traceback (most recent call last)",
      "Cell \u001b[1;32mIn[23], line 12\u001b[0m\n\u001b[0;32m      7\u001b[0m \u001b[38;5;66;03m#print(nums1)\u001b[39;00m\n\u001b[0;32m      8\u001b[0m \u001b[38;5;66;03m#print(nums2)\u001b[39;00m\n\u001b[0;32m     10\u001b[0m results\u001b[38;5;241m=\u001b[39m\u001b[38;5;28mmap\u001b[39m(numberss, nums1, nums2)\n\u001b[1;32m---> 12\u001b[0m \u001b[38;5;28mprint\u001b[39m(\u001b[38;5;28;43mlist\u001b[39;49m\u001b[43m(\u001b[49m\u001b[43mresults\u001b[49m\u001b[43m)\u001b[49m)\n",
      "\u001b[1;31mTypeError\u001b[0m: 'set' object is not callable"
     ]
    }
   ],
   "source": [
    "def numberss(x, y):\n",
    "    return x+y, x-y\n",
    "\n",
    "nums1=[6, 3, 9, 11]\n",
    "nums2=[4, 8, 9, 21]\n",
    "\n",
    "#print(nums1)\n",
    "#print(nums2)\n",
    "\n",
    "results=map(numberss, nums1, nums2)\n",
    "\n",
    "print(list(results))\n",
    "\n"
   ]
  },
  {
   "cell_type": "code",
   "execution_count": 2,
   "metadata": {},
   "outputs": [
    {
     "name": "stdout",
     "output_type": "stream",
     "text": [
      "[1, 2, 3, 4, 5]\n",
      "(1, 2, 3, 4, 5)\n",
      "['1', '2', '3', '4', '5']\n",
      "['1', '2', '3', '4', '5']\n"
     ]
    }
   ],
   "source": [
    "#8\n",
    "listnumber=[1, 2, 3, 4, 5]\n",
    "tuplenumber=(1, 2, 3, 4, 5)\n",
    "\n",
    "print(listnumber)\n",
    "print(tuplenumber)\n",
    "\n",
    "result1=list(map(str, listnumber))\n",
    "result2=list(map(str, tuplenumber))\n",
    "\n",
    "print(result1)\n",
    "print(result2)"
   ]
  },
  {
   "cell_type": "code",
   "execution_count": 8,
   "metadata": {},
   "outputs": [
    {
     "name": "stdout",
     "output_type": "stream",
     "text": [
      "['Alberto Franco', 'Gino Mcneill', 'Ryan Parkes', 'Eesha Hinton']\n",
      "['15/05/2002', '17/05/2002', '16/02/1999', '25/09/1998']\n",
      "['35kg', '37kg', '39kg', '35kg']\n"
     ]
    }
   ],
   "source": [
    "#9\n",
    "student_data  = [('Alberto Franco','15/05/2002','35kg'), ('Gino Mcneill','17/05/2002','37kg'), ('Ryan Parkes','16/02/1999', '39kg'), ('Eesha Hinton','25/09/1998', '35kg')]\n",
    "\n",
    "studentname=list(map(lambda x:x[0], student_data))\n",
    "studentbrithday=list(map(lambda x:x[1], student_data))\n",
    "studentweight=list(map(lambda x:x [-1],student_data ))\n",
    "\n",
    "print(studentname)\n",
    "print(studentbrithday)\n",
    "print(studentweight)"
   ]
  },
  {
   "cell_type": "code",
   "execution_count": 16,
   "metadata": {},
   "outputs": [
    {
     "name": "stdout",
     "output_type": "stream",
     "text": [
      "[0, 1, 1, 4, 9, 25, 64, 169, 441]\n"
     ]
    }
   ],
   "source": [
    "#10\n",
    "import itertools\n",
    "\n",
    "def fibanocci(n):\n",
    "\n",
    "    fib_start=[0, 1]\n",
    "    for x in range(2, n):\n",
    "        fib_start.append(fib_start[-1]+fib_start[-2])\n",
    "\n",
    "    square=lambda n: n*n\n",
    "\n",
    "    result=list(map(square, fib_start))\n",
    "    return result\n",
    "\n",
    "print(fibanocci(9))        \n",
    "\n",
    "\n",
    "\n",
    "\n",
    "\n",
    "\n",
    "\n"
   ]
  },
  {
   "cell_type": "code",
   "execution_count": 4,
   "metadata": {},
   "outputs": [
    {
     "ename": "IndentationError",
     "evalue": "unindent does not match any outer indentation level (<string>, line 11)",
     "output_type": "error",
     "traceback": [
      "\u001b[1;36m  File \u001b[1;32m<string>:11\u001b[1;36m\u001b[0m\n\u001b[1;33m    numbers=array('i',[1, 2, 6, -6, -1, 2])\u001b[0m\n\u001b[1;37m                                           ^\u001b[0m\n\u001b[1;31mIndentationError\u001b[0m\u001b[1;31m:\u001b[0m unindent does not match any outer indentation level\n"
     ]
    }
   ],
   "source": [
    "#11\n",
    "from array import array\n",
    "\n",
    "def arraysum(nums):\n",
    "    sumn=0 \n",
    "    for n in nums:\n",
    "        sumn += n\n",
    "   \n",
    "    return sumn\n",
    "\n",
    "  numbers=array('i',[1, 2, 6, -6, -1, 2])\n",
    "\n",
    "  nums=list(map(int, numbers))\n",
    "\n",
    "  result=arraysum(nums)\n",
    "\n",
    "print(result)\n",
    "\n",
    "    \n",
    "\n",
    "\n"
   ]
  },
  {
   "cell_type": "code",
   "execution_count": 8,
   "metadata": {},
   "outputs": [
    {
     "name": "stdout",
     "output_type": "stream",
     "text": [
      "(0.54, 0.31, 0.15)\n"
     ]
    }
   ],
   "source": [
    "#12\n",
    "from array import array\n",
    "\n",
    "def plusminus(nums):\n",
    "    n=len(nums)\n",
    "    n1=n2=n3=0\n",
    "    for x in nums:\n",
    "        if x>0:\n",
    "            n1+=1\n",
    "        elif x<0:\n",
    "            n2+=1\n",
    "        else:  \n",
    "             n3+=1\n",
    "\n",
    "    return round(n1/n, 2), round(n2/n, 2), round(n3/n, 2)        \n",
    "  \n",
    "nums=array('i', [0, 1, 2, -1, -5, 6, 0, -3, -2, 3, 4, 6, 8]) \n",
    "numsarray=list(map(int, nums))\n",
    "\n",
    "result=plusminus(numsarray)\n",
    "\n",
    "print(result)\n",
    "    \n",
    "\n"
   ]
  },
  {
   "cell_type": "code",
   "execution_count": 2,
   "metadata": {},
   "outputs": [
    {
     "name": "stdout",
     "output_type": "stream",
     "text": [
      "4\n"
     ]
    }
   ],
   "source": [
    "#13\n",
    "from operator import eq\n",
    "\n",
    "def samenums(nums1, nums2):\n",
    "    result=sum(map(eq, nums1, nums2))\n",
    "\n",
    "    return result\n",
    "\n",
    "nums1 = [1, 2, 3, 4, 5, 6, 7, 8]\n",
    "nums2 = [2, 2, 3, 1, 2, 6, 7, 9]\n",
    "\n",
    "print(int(samenums(nums1, nums2)))\n",
    "\n"
   ]
  },
  {
   "cell_type": "code",
   "execution_count": 14,
   "metadata": {},
   "outputs": [
    {
     "name": "stdout",
     "output_type": "stream",
     "text": [
      "[1, 2, 3, 4, 5, 6, 7, 8, 8, 9]\n"
     ]
    }
   ],
   "source": [
    "#14\n",
    "import random\n",
    "choice1=[2, 1, 5, 4, 8]\n",
    "choice2=[3, 9, 7, 6, 8]\n",
    "\n",
    "combined=choice1+choice2\n",
    "random.shuffle(combined)\n",
    "\n",
    "print(combined)\n",
    "\n"
   ]
  },
  {
   "cell_type": "code",
   "execution_count": 18,
   "metadata": {},
   "outputs": [
    {
     "name": "stdout",
     "output_type": "stream",
     "text": [
      "[{'Science': 88, 'Language': 77}, {'Science': 89, 'Language': 78}, {'Science': 62, 'Language': 84}, {'Science': 95, 'Language': 80}]\n"
     ]
    }
   ],
   "source": [
    "#15\n",
    "marks = {'Science': [88, 89, 62, 95], 'Language': [77, 78, 84, 80]}\n",
    "\n",
    "result=list(map(dict, zip(*[[(key, val) for val in value] for key, value in marks.items()])))\n",
    "\n",
    "print(result)"
   ]
  },
  {
   "cell_type": "code",
   "execution_count": 31,
   "metadata": {},
   "outputs": [
    {
     "ename": "TypeError",
     "evalue": "'map' object is not callable",
     "output_type": "error",
     "traceback": [
      "\u001b[1;31m---------------------------------------------------------------------------\u001b[0m",
      "\u001b[1;31mTypeError\u001b[0m                                 Traceback (most recent call last)",
      "Cell \u001b[1;32mIn[31], line 6\u001b[0m\n\u001b[0;32m      3\u001b[0m    result\u001b[38;5;241m=\u001b[39m\u001b[38;5;28mmap\u001b[39m(\u001b[38;5;28mlist\u001b[39m, l)\n\u001b[0;32m      4\u001b[0m    \u001b[38;5;28;01mreturn\u001b[39;00m \u001b[38;5;28mlist\u001b[39m(result)\n\u001b[1;32m----> 6\u001b[0m \u001b[38;5;28mprint\u001b[39m(\u001b[43mstr_to_list\u001b[49m\u001b[43m(\u001b[49m\u001b[38;5;124;43m'\u001b[39;49m\u001b[38;5;124;43mmy name is Diyorbek\u001b[39;49m\u001b[38;5;124;43m'\u001b[39;49m\u001b[43m)\u001b[49m)\n",
      "Cell \u001b[1;32mIn[31], line 4\u001b[0m, in \u001b[0;36mstr_to_list\u001b[1;34m(l)\u001b[0m\n\u001b[0;32m      2\u001b[0m \u001b[38;5;28;01mdef\u001b[39;00m\u001b[38;5;250m \u001b[39m\u001b[38;5;21mstr_to_list\u001b[39m(l):\n\u001b[0;32m      3\u001b[0m    result\u001b[38;5;241m=\u001b[39m\u001b[38;5;28mmap\u001b[39m(\u001b[38;5;28mlist\u001b[39m, l)\n\u001b[1;32m----> 4\u001b[0m    \u001b[38;5;28;01mreturn\u001b[39;00m \u001b[38;5;28;43mlist\u001b[39;49m\u001b[43m(\u001b[49m\u001b[43mresult\u001b[49m\u001b[43m)\u001b[49m\n",
      "\u001b[1;31mTypeError\u001b[0m: 'map' object is not callable"
     ]
    }
   ],
   "source": [
    "#16\n",
    "def str_to_list(l):\n",
    "   result=map(list, l)\n",
    "   return list(result)\n",
    "\n",
    "print(str_to_list('my name is Diyorbek'))\n"
   ]
  }
 ],
 "metadata": {
  "kernelspec": {
   "display_name": "Python 3",
   "language": "python",
   "name": "python3"
  },
  "language_info": {
   "codemirror_mode": {
    "name": "ipython",
    "version": 3
   },
   "file_extension": ".py",
   "mimetype": "text/x-python",
   "name": "python",
   "nbconvert_exporter": "python",
   "pygments_lexer": "ipython3",
   "version": "3.13.1"
  }
 },
 "nbformat": 4,
 "nbformat_minor": 2
}
